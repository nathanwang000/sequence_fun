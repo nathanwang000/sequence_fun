{
 "cells": [
  {
   "cell_type": "code",
   "execution_count": 27,
   "metadata": {},
   "outputs": [],
   "source": [
    "%matplotlib inline\n",
    "import numpy as np\n",
    "import matplotlib.pyplot as pltimport \n",
    "import os, copy\n",
    "import torch\n",
    "import torch.nn as nn\n",
    "from torch.autograd import Variable\n",
    "import torchvision.datasets as dset\n",
    "import torchvision.transforms as transforms\n",
    "import torch.nn.functional as F\n",
    "import torch.optim as optim\n",
    "import time\n",
    "import math, tqdm\n",
    "import seaborn as sns\n",
    "from lib.model import MLP\n",
    "from lib.data import FlatData, MNIST_add_data\n",
    "from lib.utils import timeSince\n",
    "import matplotlib.pyplot as plt\n",
    "import matplotlib.ticker as ticker\n",
    "from lib.evaluation import Evaluation, plot_confusion\n",
    "from lib.data import TwoStateMNISTData"
   ]
  },
  {
   "cell_type": "code",
   "execution_count": 28,
   "metadata": {},
   "outputs": [],
   "source": [
    "root = './mnist_data'\n",
    "if not os.path.exists(root):\n",
    "    os.mkdir(root)\n",
    "    \n",
    "trans = transforms.Compose([transforms.ToTensor(), transforms.Normalize((0.5,), (1.0,))])\n",
    "# if not exist, download mnist dataset\n",
    "train_set = dset.MNIST(root=root, train=True, transform=trans, download=True)\n",
    "test_set = dset.MNIST(root=root, train=False, transform=trans, download=True)"
   ]
  },
  {
   "cell_type": "markdown",
   "metadata": {},
   "source": [
    "### multi output LSTM"
   ]
  },
  {
   "cell_type": "code",
   "execution_count": null,
   "metadata": {
    "scrolled": true
   },
   "outputs": [
    {
     "name": "stdout",
     "output_type": "stream",
     "text": [
      "          #iter|       progress|     total_time|     batch_time|      data_time|       avg_loss\n",
      "             31|             0%|          0m 8s|        0.28184|        0.00001|        2.05497\n",
      "             62|             1%|         0m 16s|        0.27037|        0.00002|        1.80034\n",
      "             93|             2%|         0m 25s|        0.27405|        0.00002|        1.60505\n"
     ]
    }
   ],
   "source": [
    "from lib.model import RNN_LSTM\n",
    "from lib.data import TwoStateMNISTData\n",
    "from lib.train import TrainMORNN\n",
    "\n",
    "n_hidden = 100\n",
    "n_categories = 10\n",
    "net = RNN_LSTM(784, n_hidden, n_categories)\n",
    "savename = 'models/checkpoint.pth.tar'\n",
    "\n",
    "optimizer = torch.optim.Adam(net.parameters())\n",
    "criterion = nn.NLLLoss()\n",
    "train_data = TwoStateMNISTData(train_set)\n",
    "train_data.set_seq_length(min_length=1, max_length=3)\n",
    "\n",
    "trainer = TrainMORNN(net, optimizer, criterion, train_data, save_filename=savename)\n",
    "if os.path.exists(savename):\n",
    "    trainer.load_checkpoint(savename)\n",
    "trainer.train()"
   ]
  },
  {
   "cell_type": "code",
   "execution_count": 26,
   "metadata": {},
   "outputs": [
    {
     "data": {
      "image/png": "[encoded data removed]",
      "text/plain": [
       "<matplotlib.figure.Figure at 0x7f4c6c22fcc0>"
      ]
     },
     "metadata": {},
     "output_type": "display_data"
    }
   ],
   "source": [
    "plt.plot(trainer.smooth_loss())\n",
    "plt.show()"
   ]
  },
  {
   "cell_type": "code",
   "execution_count": 24,
   "metadata": {
    "scrolled": true
   },
   "outputs": [
    {
     "name": "stdout",
     "output_type": "stream",
     "text": [
      "accuracy is 93.93%\n"
     ]
    },
    {
     "data": {
      "image/png": "[encoded data removed]",
      "text/plain": [
       "<matplotlib.figure.Figure at 0x7f4c745d67b8>"
      ]
     },
     "metadata": {},
     "output_type": "display_data"
    }
   ],
   "source": [
    "from lib.evaluation import Evaluation\n",
    "n_categories = 10\n",
    "test_data = TwoStateMNISTData(test_set)\n",
    "test_data.set_seq_length(min_length=1, max_length=3)\n",
    "\n",
    "evaluation = Evaluation(net, test_data)\n",
    "confusion = evaluation.multioutput_confusion(n_categories, n_confusion=1000)\n",
    "plot_confusion(confusion)"
   ]
  },
  {
   "cell_type": "code",
   "execution_count": null,
   "metadata": {},
   "outputs": [],
   "source": []
  },
  {
   "cell_type": "code",
   "execution_count": null,
   "metadata": {},
   "outputs": [],
   "source": []
  }
 ],
 "metadata": {
  "kernelspec": {
   "display_name": "Python 3",
   "language": "python",
   "name": "python3"
  },
  "language_info": {
   "codemirror_mode": {
    "name": "ipython",
    "version": 3
   },
   "file_extension": ".py",
   "mimetype": "text/x-python",
   "name": "python",
   "nbconvert_exporter": "python",
   "pygments_lexer": "ipython3",
   "version": "3.5.2"
  }
 },
 "nbformat": 4,
 "nbformat_minor": 2
}
