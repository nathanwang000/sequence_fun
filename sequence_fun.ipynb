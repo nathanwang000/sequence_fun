{
 "cells": [
  {
   "cell_type": "code",
   "execution_count": 46,
   "metadata": {},
   "outputs": [],
   "source": [
    "%matplotlib inline\n",
    "import numpy as np\n",
    "import matplotlib.pyplot as pltimport \n",
    "import os, copy\n",
    "import torch\n",
    "import torch.nn as nn\n",
    "from torch.autograd import Variable\n",
    "import torchvision.datasets as dset\n",
    "import torchvision.transforms as transforms\n",
    "import torch.nn.functional as F\n",
    "import torch.optim as optim\n",
    "import time\n",
    "import math, tqdm\n",
    "import seaborn as sns\n",
    "from lib.model import MLP, RNN_LSTM, RNN_ILSTM, RNN_SLSTM\n",
    "from lib.data import Data, MNIST_add_data\n",
    "from lib.utils import timeSince\n",
    "from lib.train import TrainMLP, TrainRNN\n",
    "import matplotlib.pyplot as plt\n",
    "import matplotlib.ticker as ticker\n",
    "from lib.evaluation import Evaluation, plot_confusion"
   ]
  },
  {
   "cell_type": "code",
   "execution_count": 2,
   "metadata": {},
   "outputs": [],
   "source": [
    "root = './mnist_data'\n",
    "if not os.path.exists(root):\n",
    "    os.mkdir(root)\n",
    "    \n",
    "trans = transforms.Compose([transforms.ToTensor(), transforms.Normalize((0.5,), (1.0,))])\n",
    "# if not exist, download mnist dataset\n",
    "train_set = dset.MNIST(root=root, train=True, transform=trans, download=True)\n",
    "test_set = dset.MNIST(root=root, train=False, transform=trans, download=True)"
   ]
  },
  {
   "cell_type": "markdown",
   "metadata": {},
   "source": [
    "### MLP: sanity check"
   ]
  },
  {
   "cell_type": "code",
   "execution_count": 3,
   "metadata": {
    "scrolled": true
   },
   "outputs": [
    {
     "name": "stdout",
     "output_type": "stream",
     "text": [
      "31 0% (0m 7s) 0.0564 \n",
      "62 1% (0m 8s) 0.0293 \n",
      "93 2% (0m 8s) 0.0197 \n",
      "124 3% (0m 8s) 0.0177 \n",
      "155 4% (0m 9s) 0.0147 \n",
      "186 5% (0m 9s) 0.0141 \n",
      "217 6% (0m 9s) 0.0137 \n",
      "248 7% (0m 10s) 0.0132 \n",
      "279 8% (0m 10s) 0.0150 \n",
      "310 9% (0m 11s) 0.0133 \n",
      "341 10% (0m 11s) 0.0128 \n",
      "372 11% (0m 11s) 0.0131 \n",
      "403 12% (0m 12s) 0.0122 \n",
      "434 13% (0m 12s) 0.0125 \n",
      "465 14% (0m 12s) 0.0115 \n",
      "496 15% (0m 12s) 0.0099 \n",
      "527 16% (0m 13s) 0.0116 \n",
      "558 17% (0m 13s) 0.0101 \n",
      "589 18% (0m 13s) 0.0097 \n",
      "620 19% (0m 14s) 0.0112 \n",
      "651 20% (0m 14s) 0.0081 \n",
      "682 21% (0m 14s) 0.0078 \n",
      "713 22% (0m 15s) 0.0085 \n",
      "744 23% (0m 15s) 0.0096 \n",
      "775 24% (0m 16s) 0.0090 \n",
      "806 25% (0m 16s) 0.0100 \n",
      "837 26% (0m 16s) 0.0085 \n",
      "868 27% (0m 16s) 0.0090 \n",
      "899 28% (0m 17s) 0.0091 \n",
      "930 29% (0m 17s) 0.0086 \n",
      "961 30% (0m 17s) 0.0088 \n",
      "992 31% (0m 18s) 0.0075 \n",
      "1023 32% (0m 18s) 0.0074 \n",
      "1054 33% (0m 18s) 0.0082 \n",
      "1085 34% (0m 19s) 0.0081 \n",
      "1116 35% (0m 19s) 0.0074 \n",
      "1147 36% (0m 19s) 0.0072 \n",
      "1178 37% (0m 20s) 0.0078 \n",
      "1209 38% (0m 20s) 0.0059 \n",
      "1240 39% (0m 20s) 0.0075 \n",
      "1271 40% (0m 21s) 0.0068 \n",
      "1302 41% (0m 21s) 0.0066 \n",
      "1333 42% (0m 21s) 0.0065 \n",
      "1364 43% (0m 22s) 0.0068 \n",
      "1395 44% (0m 22s) 0.0060 \n",
      "1426 45% (0m 22s) 0.0074 \n",
      "1457 46% (0m 23s) 0.0071 \n",
      "1488 47% (0m 23s) 0.0089 \n",
      "1519 48% (0m 23s) 0.0063 \n",
      "1550 49% (0m 24s) 0.0048 \n",
      "1581 50% (0m 24s) 0.0072 \n",
      "1612 51% (0m 24s) 0.0052 \n",
      "1643 52% (0m 24s) 0.0059 \n",
      "1674 53% (0m 25s) 0.0065 \n",
      "1705 54% (0m 25s) 0.0059 \n",
      "1736 55% (0m 26s) 0.0050 \n",
      "1767 56% (0m 26s) 0.0070 \n",
      "1798 57% (0m 26s) 0.0059 \n",
      "1829 58% (0m 27s) 0.0058 \n",
      "1860 59% (0m 27s) 0.0062 \n",
      "1891 60% (0m 27s) 0.0044 \n",
      "1922 61% (0m 28s) 0.0060 \n",
      "1953 62% (0m 28s) 0.0056 \n",
      "1984 63% (0m 28s) 0.0049 \n",
      "2015 64% (0m 28s) 0.0049 \n",
      "2046 65% (0m 29s) 0.0060 \n",
      "2077 66% (0m 29s) 0.0055 \n",
      "2108 67% (0m 30s) 0.0054 \n",
      "2139 68% (0m 30s) 0.0061 \n",
      "2170 69% (0m 30s) 0.0038 \n",
      "2201 70% (0m 31s) 0.0050 \n",
      "2232 71% (0m 31s) 0.0042 \n",
      "2263 72% (0m 31s) 0.0043 \n",
      "2294 73% (0m 32s) 0.0050 \n",
      "2325 74% (0m 32s) 0.0050 \n",
      "2356 75% (0m 32s) 0.0044 \n",
      "2387 76% (0m 33s) 0.0050 \n",
      "2418 77% (0m 33s) 0.0059 \n",
      "2449 78% (0m 33s) 0.0040 \n",
      "2480 79% (0m 34s) 0.0054 \n",
      "2511 80% (0m 34s) 0.0045 \n",
      "2542 81% (0m 34s) 0.0055 \n",
      "2573 82% (0m 34s) 0.0059 \n",
      "2604 83% (0m 35s) 0.0051 \n",
      "2635 84% (0m 35s) 0.0048 \n",
      "2666 85% (0m 35s) 0.0042 \n",
      "2697 86% (0m 36s) 0.0052 \n",
      "2728 87% (0m 36s) 0.0055 \n",
      "2759 88% (0m 36s) 0.0040 \n",
      "2790 89% (0m 37s) 0.0037 \n",
      "2821 90% (0m 37s) 0.0037 \n",
      "2852 91% (0m 37s) 0.0043 \n",
      "2883 92% (0m 38s) 0.0046 \n",
      "2914 93% (0m 38s) 0.0046 \n",
      "2945 94% (0m 38s) 0.0034 \n",
      "2976 95% (0m 39s) 0.0042 \n",
      "3007 96% (0m 39s) 0.0049 \n",
      "3038 97% (0m 39s) 0.0031 \n",
      "3069 98% (0m 40s) 0.0042 \n",
      "3100 99% (0m 40s) 0.0038 \n"
     ]
    }
   ],
   "source": [
    "net = MLP([784, 300, 10])\n",
    "optimizer = torch.optim.Adam(net.parameters())\n",
    "criterion = nn.NLLLoss()\n",
    "train_data = Data(train_set)\n",
    "\n",
    "trainer = TrainMLP(net, optimizer, criterion, train_data)\n",
    "trainer.train()"
   ]
  },
  {
   "cell_type": "code",
   "execution_count": 4,
   "metadata": {
    "scrolled": true
   },
   "outputs": [
    {
     "data": {
      "image/png": "[encoded data removed]",
      "text/plain": [
       "<matplotlib.figure.Figure at 0x7fe8397d04a8>"
      ]
     },
     "metadata": {},
     "output_type": "display_data"
    }
   ],
   "source": [
    "plt.plot(trainer.all_losses)\n",
    "plt.show()"
   ]
  },
  {
   "cell_type": "code",
   "execution_count": 5,
   "metadata": {},
   "outputs": [
    {
     "name": "stdout",
     "output_type": "stream",
     "text": [
      "accuracy is 96.01%\n"
     ]
    },
    {
     "data": {
      "image/png": "[encoded data removed]",
      "text/plain": [
       "<matplotlib.figure.Figure at 0x7fe77c1f47f0>"
      ]
     },
     "metadata": {},
     "output_type": "display_data"
    }
   ],
   "source": [
    "n_categories = 10\n",
    "evaluation = Evaluation(net, Data(test_set))\n",
    "confusion = evaluation.confusion(n_categories, n_confusion=10000)\n",
    "plot_confusion(confusion)"
   ]
  },
  {
   "cell_type": "markdown",
   "metadata": {},
   "source": [
    "# Sequence task: 1-3 mnist digits addition mod 10 (one output for seq)"
   ]
  },
  {
   "cell_type": "code",
   "execution_count": 3,
   "metadata": {},
   "outputs": [],
   "source": [
    "# sample n_samples correctly classified examples\n",
    "def getCorrect(net, data, n_samples=100):\n",
    "    xs = []\n",
    "    ys = []\n",
    "\n",
    "    i = 0\n",
    "    while i < n_samples:\n",
    "        d = data.random_batch(batch_size=1)\n",
    "        x, y = d[0], d[1]\n",
    "        output = net.eval_forward(*d)\n",
    "        _, ans = torch.max(output, 1)\n",
    "        if ans.item() != y.item(): # incorrect\n",
    "            continue\n",
    "\n",
    "        xs.append(x)\n",
    "        ys.append(y)\n",
    "        i += 1\n",
    "    return xs, ys\n",
    "\n",
    "def show_examples(net, xs, ys, n_show=3):\n",
    "    for x, y in zip(xs[:n_show], ys[:n_show]):\n",
    "        yhat = net.eval_forward(x, y, [len(x)])\n",
    "        val, ind = torch.max(yhat, 1)\n",
    "        \n",
    "        n_images, _, w_h = x.shape\n",
    "        print('label: %d, predict: %d, prob: %.2f' % (y.item(), ind.item(), np.exp(val.item())))\n",
    "        for i in range(n_images):\n",
    "            plt.subplot(1,3,i+1)\n",
    "            plt.imshow(x[i].view(28,28).detach().numpy())\n",
    "        plt.show()"
   ]
  },
  {
   "cell_type": "markdown",
   "metadata": {},
   "source": [
    "### 2 layer MLP on the last step"
   ]
  },
  {
   "cell_type": "code",
   "execution_count": 80,
   "metadata": {
    "scrolled": true
   },
   "outputs": [
    {
     "name": "stdout",
     "output_type": "stream",
     "text": [
      "31 0% (0m 1s) 0.0719 \n",
      "62 1% (0m 2s) 0.0694 \n",
      "93 2% (0m 3s) 0.0684 \n",
      "124 3% (0m 4s) 0.0679 \n",
      "155 4% (0m 5s) 0.0675 \n",
      "186 5% (0m 6s) 0.0675 \n",
      "217 6% (0m 7s) 0.0677 \n",
      "248 7% (0m 9s) 0.0671 \n",
      "279 8% (0m 10s) 0.0668 \n",
      "310 9% (0m 11s) 0.0652 \n",
      "341 10% (0m 12s) 0.0659 \n",
      "372 11% (0m 13s) 0.0676 \n",
      "403 12% (0m 14s) 0.0658 \n",
      "434 13% (0m 16s) 0.0670 \n",
      "465 14% (0m 17s) 0.0663 \n",
      "496 15% (0m 18s) 0.0670 \n",
      "527 16% (0m 19s) 0.0667 \n",
      "558 17% (0m 21s) 0.0657 \n",
      "589 18% (0m 22s) 0.0656 \n",
      "620 19% (0m 23s) 0.0676 \n",
      "651 20% (0m 24s) 0.0668 \n",
      "682 21% (0m 25s) 0.0661 \n",
      "713 22% (0m 27s) 0.0653 \n",
      "744 23% (0m 28s) 0.0656 \n",
      "775 24% (0m 29s) 0.0658 \n",
      "806 25% (0m 30s) 0.0669 \n",
      "837 26% (0m 31s) 0.0663 \n",
      "868 27% (0m 32s) 0.0654 \n",
      "899 28% (0m 34s) 0.0658 \n",
      "930 29% (0m 35s) 0.0655 \n",
      "961 30% (0m 36s) 0.0660 \n",
      "992 31% (0m 37s) 0.0658 \n",
      "1023 32% (0m 38s) 0.0651 \n",
      "1054 33% (0m 39s) 0.0656 \n",
      "1085 34% (0m 41s) 0.0673 \n",
      "1116 35% (0m 42s) 0.0657 \n",
      "1147 36% (0m 43s) 0.0652 \n",
      "1178 37% (0m 44s) 0.0661 \n",
      "1209 38% (0m 45s) 0.0661 \n",
      "1240 39% (0m 46s) 0.0642 \n",
      "1271 40% (0m 47s) 0.0662 \n",
      "1302 41% (0m 49s) 0.0650 \n",
      "1333 42% (0m 50s) 0.0663 \n",
      "1364 43% (0m 51s) 0.0667 \n",
      "1395 44% (0m 52s) 0.0653 \n",
      "1426 45% (0m 53s) 0.0648 \n",
      "1457 46% (0m 54s) 0.0644 \n",
      "1488 47% (0m 55s) 0.0649 \n",
      "1519 48% (0m 56s) 0.0645 \n",
      "1550 49% (0m 58s) 0.0646 \n",
      "1581 50% (0m 59s) 0.0655 \n",
      "1612 51% (1m 0s) 0.0644 \n",
      "1643 52% (1m 1s) 0.0647 \n",
      "1674 53% (1m 2s) 0.0650 \n",
      "1705 54% (1m 4s) 0.0647 \n",
      "1736 55% (1m 5s) 0.0671 \n",
      "1767 56% (1m 6s) 0.0650 \n",
      "1798 57% (1m 7s) 0.0644 \n",
      "1829 58% (1m 9s) 0.0660 \n",
      "1860 59% (1m 10s) 0.0656 \n",
      "1891 60% (1m 11s) 0.0641 \n",
      "1922 61% (1m 12s) 0.0642 \n",
      "1953 62% (1m 13s) 0.0649 \n",
      "1984 63% (1m 14s) 0.0650 \n",
      "2015 64% (1m 15s) 0.0658 \n",
      "2046 65% (1m 17s) 0.0665 \n",
      "2077 66% (1m 18s) 0.0648 \n",
      "2108 67% (1m 19s) 0.0648 \n",
      "2139 68% (1m 20s) 0.0645 \n",
      "2170 69% (1m 21s) 0.0664 \n",
      "2201 70% (1m 22s) 0.0651 \n",
      "2232 71% (1m 24s) 0.0659 \n",
      "2263 72% (1m 25s) 0.0649 \n",
      "2294 73% (1m 26s) 0.0659 \n",
      "2325 74% (1m 27s) 0.0655 \n",
      "2356 75% (1m 28s) 0.0659 \n",
      "2387 76% (1m 30s) 0.0650 \n",
      "2418 77% (1m 31s) 0.0648 \n",
      "2449 78% (1m 32s) 0.0651 \n",
      "2480 79% (1m 33s) 0.0658 \n",
      "2511 80% (1m 34s) 0.0645 \n",
      "2542 81% (1m 35s) 0.0657 \n",
      "2573 82% (1m 36s) 0.0667 \n",
      "2604 83% (1m 38s) 0.0656 \n",
      "2635 84% (1m 39s) 0.0658 \n",
      "2666 85% (1m 40s) 0.0650 \n",
      "2697 86% (1m 41s) 0.0642 \n",
      "2728 87% (1m 43s) 0.0663 \n",
      "2759 88% (1m 44s) 0.0645 \n",
      "2790 89% (1m 45s) 0.0639 \n",
      "2821 90% (1m 46s) 0.0641 \n",
      "2852 91% (1m 47s) 0.0649 \n",
      "2883 92% (1m 49s) 0.0643 \n",
      "2914 93% (1m 50s) 0.0640 \n",
      "2945 94% (1m 51s) 0.0652 \n",
      "2976 95% (1m 52s) 0.0647 \n",
      "3007 96% (1m 53s) 0.0663 \n",
      "3038 97% (1m 55s) 0.0654 \n",
      "3069 98% (1m 56s) 0.0660 \n",
      "3100 99% (1m 57s) 0.0655 \n"
     ]
    }
   ],
   "source": [
    "from lib.model import RNN_MLP\n",
    "\n",
    "n_hidden = 300\n",
    "n_categories = 10\n",
    "net = RNN_MLP(784, n_hidden, n_categories)\n",
    "\n",
    "optimizer = torch.optim.Adam(net.parameters())\n",
    "criterion = nn.NLLLoss()\n",
    "train_data = MNIST_add_data(train_set, min_length=1, max_length=3)\n",
    "\n",
    "trainer = TrainRNN(net, optimizer, criterion, train_data)\n",
    "trainer.train()"
   ]
  },
  {
   "cell_type": "code",
   "execution_count": 81,
   "metadata": {},
   "outputs": [
    {
     "data": {
      "image/png": "[encoded data removed]",
      "text/plain": [
       "<matplotlib.figure.Figure at 0x7fea3baec048>"
      ]
     },
     "metadata": {},
     "output_type": "display_data"
    }
   ],
   "source": [
    "plt.plot(trainer.all_losses)\n",
    "plt.show()"
   ]
  },
  {
   "cell_type": "code",
   "execution_count": 82,
   "metadata": {},
   "outputs": [
    {
     "name": "stdout",
     "output_type": "stream",
     "text": [
      "accuracy is 89.00%\n"
     ]
    },
    {
     "data": {
      "image/png": "[encoded data removed]",
      "text/plain": [
       "<matplotlib.figure.Figure at 0x7fea3ba97e48>"
      ]
     },
     "metadata": {},
     "output_type": "display_data"
    }
   ],
   "source": [
    "n_categories = 10\n",
    "evaluation = Evaluation(net, MNIST_add_data(test_set, min_length=1, max_length=1))\n",
    "confusion = evaluation.confusion(n_categories, n_confusion=1000)\n",
    "plot_confusion(confusion)"
   ]
  },
  {
   "cell_type": "markdown",
   "metadata": {},
   "source": [
    "### Independent LSTM (each time step uses an independent LSTM cell)"
   ]
  },
  {
   "cell_type": "code",
   "execution_count": 58,
   "metadata": {
    "scrolled": true
   },
   "outputs": [
    {
     "name": "stdout",
     "output_type": "stream",
     "text": [
      "31 0% (0m 2s) 0.0719 \n",
      "62 1% (0m 4s) 0.0715 \n",
      "93 2% (0m 6s) 0.0710 \n",
      "124 3% (0m 9s) 0.0709 \n",
      "155 4% (0m 11s) 0.0704 \n",
      "186 5% (0m 13s) 0.0700 \n",
      "217 6% (0m 15s) 0.0696 \n",
      "248 7% (0m 18s) 0.0693 \n",
      "279 8% (0m 20s) 0.0692 \n",
      "310 9% (0m 23s) 0.0685 \n",
      "341 10% (0m 25s) 0.0687 \n",
      "372 11% (0m 27s) 0.0682 \n",
      "403 12% (0m 29s) 0.0685 \n",
      "434 13% (0m 31s) 0.0674 \n",
      "465 14% (0m 33s) 0.0672 \n",
      "496 15% (0m 36s) 0.0670 \n",
      "527 16% (0m 38s) 0.0668 \n",
      "558 17% (0m 40s) 0.0671 \n",
      "589 18% (0m 42s) 0.0668 \n",
      "620 19% (0m 44s) 0.0656 \n",
      "651 20% (0m 46s) 0.0655 \n",
      "682 21% (0m 49s) 0.0655 \n",
      "713 22% (0m 51s) 0.0656 \n",
      "744 23% (0m 53s) 0.0650 \n",
      "775 24% (0m 55s) 0.0656 \n",
      "806 25% (0m 57s) 0.0652 \n",
      "837 26% (0m 59s) 0.0648 \n",
      "868 27% (1m 1s) 0.0660 \n",
      "899 28% (1m 3s) 0.0646 \n",
      "930 29% (1m 6s) 0.0657 \n",
      "961 30% (1m 9s) 0.0637 \n",
      "992 31% (1m 11s) 0.0648 \n",
      "1023 32% (1m 13s) 0.0646 \n",
      "1054 33% (1m 15s) 0.0633 \n",
      "1085 34% (1m 17s) 0.0636 \n",
      "1116 35% (1m 19s) 0.0636 \n",
      "1147 36% (1m 21s) 0.0637 \n",
      "1178 37% (1m 24s) 0.0624 \n",
      "1209 38% (1m 26s) 0.0634 \n",
      "1240 39% (1m 28s) 0.0642 \n",
      "1271 40% (1m 30s) 0.0632 \n",
      "1302 41% (1m 32s) 0.0635 \n",
      "1333 42% (1m 35s) 0.0632 \n",
      "1364 43% (1m 36s) 0.0636 \n",
      "1395 44% (1m 39s) 0.0626 \n",
      "1426 45% (1m 41s) 0.0642 \n",
      "1457 46% (1m 44s) 0.0629 \n",
      "1488 47% (1m 46s) 0.0632 \n",
      "1519 48% (1m 48s) 0.0629 \n",
      "1550 49% (1m 51s) 0.0627 \n",
      "1581 50% (1m 53s) 0.0621 \n",
      "1612 51% (1m 55s) 0.0624 \n",
      "1643 52% (1m 57s) 0.0622 \n",
      "1674 53% (1m 59s) 0.0621 \n",
      "1705 54% (2m 1s) 0.0621 \n",
      "1736 55% (2m 3s) 0.0621 \n",
      "1767 56% (2m 5s) 0.0622 \n",
      "1798 57% (2m 8s) 0.0620 \n",
      "1829 58% (2m 11s) 0.0617 \n",
      "1860 59% (2m 13s) 0.0630 \n",
      "1891 60% (2m 16s) 0.0615 \n",
      "1922 61% (2m 18s) 0.0615 \n",
      "1953 62% (2m 20s) 0.0624 \n",
      "1984 63% (2m 22s) 0.0622 \n",
      "2015 64% (2m 24s) 0.0619 \n",
      "2046 65% (2m 26s) 0.0615 \n",
      "2077 66% (2m 29s) 0.0609 \n",
      "2108 67% (2m 31s) 0.0620 \n",
      "2139 68% (2m 33s) 0.0621 \n",
      "2170 69% (2m 34s) 0.0616 \n",
      "2201 70% (2m 36s) 0.0600 \n",
      "2232 71% (2m 39s) 0.0623 \n",
      "2263 72% (2m 41s) 0.0610 \n",
      "2294 73% (2m 44s) 0.0619 \n",
      "2325 74% (2m 46s) 0.0618 \n",
      "2356 75% (2m 48s) 0.0618 \n",
      "2387 76% (2m 50s) 0.0618 \n",
      "2418 77% (2m 52s) 0.0617 \n",
      "2449 78% (2m 54s) 0.0612 \n",
      "2480 79% (2m 56s) 0.0602 \n",
      "2511 80% (2m 58s) 0.0621 \n",
      "2542 81% (3m 1s) 0.0611 \n",
      "2573 82% (3m 3s) 0.0617 \n",
      "2604 83% (3m 6s) 0.0602 \n",
      "2635 84% (3m 8s) 0.0599 \n",
      "2666 85% (3m 10s) 0.0609 \n",
      "2697 86% (3m 12s) 0.0599 \n",
      "2728 87% (3m 14s) 0.0600 \n",
      "2759 88% (3m 16s) 0.0610 \n",
      "2790 89% (3m 18s) 0.0602 \n",
      "2821 90% (3m 21s) 0.0603 \n",
      "2852 91% (3m 22s) 0.0621 \n",
      "2883 92% (3m 25s) 0.0615 \n",
      "2914 93% (3m 26s) 0.0607 \n",
      "2945 94% (3m 29s) 0.0587 \n",
      "2976 95% (3m 31s) 0.0620 \n",
      "3007 96% (3m 33s) 0.0605 \n",
      "3038 97% (3m 35s) 0.0595 \n",
      "3069 98% (3m 37s) 0.0609 \n",
      "3100 99% (3m 39s) 0.0610 \n"
     ]
    }
   ],
   "source": [
    "from lib.model import RNN_ILSTM\n",
    "\n",
    "n_hidden = 300\n",
    "n_categories = 10\n",
    "net = RNN_ILSTM(784, n_hidden, n_categories)\n",
    "\n",
    "optimizer = torch.optim.Adam(net.parameters())\n",
    "criterion = nn.NLLLoss()\n",
    "train_data = MNIST_add_data(train_set)\n",
    "\n",
    "trainer = TrainRNN(net, optimizer, criterion, train_data)\n",
    "trainer.train()"
   ]
  },
  {
   "cell_type": "code",
   "execution_count": 59,
   "metadata": {},
   "outputs": [
    {
     "data": {
      "image/png": "[encoded data removed]",
      "text/plain": [
       "<matplotlib.figure.Figure at 0x7fe88b0210b8>"
      ]
     },
     "metadata": {},
     "output_type": "display_data"
    }
   ],
   "source": [
    "plt.plot(trainer.all_losses)\n",
    "plt.show()"
   ]
  },
  {
   "cell_type": "code",
   "execution_count": 62,
   "metadata": {
    "scrolled": true
   },
   "outputs": [
    {
     "name": "stdout",
     "output_type": "stream",
     "text": [
      "accuracy is 83.60%\n"
     ]
    },
    {
     "data": {
      "image/png": "[encoded data removed]",
      "text/plain": [
       "<matplotlib.figure.Figure at 0x7fe89f166940>"
      ]
     },
     "metadata": {},
     "output_type": "display_data"
    }
   ],
   "source": [
    "n_categories = 10\n",
    "evaluation = Evaluation(net, MNIST_add_data(test_set, min_length=1, max_length=1))\n",
    "confusion = evaluation.confusion(n_categories, n_confusion=1000)\n",
    "plot_confusion(confusion)"
   ]
  },
  {
   "cell_type": "markdown",
   "metadata": {},
   "source": [
    "### Staged LSTM"
   ]
  },
  {
   "cell_type": "code",
   "execution_count": 63,
   "metadata": {
    "scrolled": true
   },
   "outputs": [
    {
     "name": "stdout",
     "output_type": "stream",
     "text": [
      "31 0% (0m 2s) 0.0716 \n",
      "62 1% (0m 5s) 0.0679 \n",
      "93 2% (0m 7s) 0.0656 \n",
      "124 3% (0m 9s) 0.0622 \n",
      "155 4% (0m 12s) 0.0561 \n",
      "186 5% (0m 14s) 0.0545 \n",
      "217 6% (0m 17s) 0.0537 \n",
      "248 7% (0m 20s) 0.0534 \n",
      "279 8% (0m 22s) 0.0509 \n",
      "310 9% (0m 25s) 0.0510 \n",
      "341 10% (0m 28s) 0.0492 \n",
      "372 11% (0m 30s) 0.0500 \n",
      "403 12% (0m 33s) 0.0486 \n",
      "434 13% (0m 35s) 0.0470 \n",
      "465 14% (0m 37s) 0.0498 \n",
      "496 15% (0m 40s) 0.0466 \n",
      "527 16% (0m 43s) 0.0460 \n",
      "558 17% (0m 45s) 0.0475 \n",
      "589 18% (0m 47s) 0.0466 \n",
      "620 19% (0m 50s) 0.0486 \n",
      "651 20% (0m 51s) 0.0434 \n",
      "682 21% (0m 53s) 0.0455 \n",
      "713 22% (0m 55s) 0.0462 \n",
      "744 23% (0m 58s) 0.0441 \n",
      "775 24% (1m 1s) 0.0410 \n",
      "806 25% (1m 4s) 0.0444 \n",
      "837 26% (1m 6s) 0.0427 \n",
      "868 27% (1m 9s) 0.0415 \n",
      "899 28% (1m 11s) 0.0418 \n",
      "930 29% (1m 14s) 0.0429 \n",
      "961 30% (1m 16s) 0.0417 \n",
      "992 31% (1m 19s) 0.0398 \n",
      "1023 32% (1m 21s) 0.0397 \n",
      "1054 33% (1m 24s) 0.0397 \n",
      "1085 34% (1m 26s) 0.0413 \n",
      "1116 35% (1m 29s) 0.0413 \n",
      "1147 36% (1m 31s) 0.0397 \n",
      "1178 37% (1m 33s) 0.0396 \n",
      "1209 38% (1m 35s) 0.0404 \n",
      "1240 39% (1m 38s) 0.0387 \n",
      "1271 40% (1m 41s) 0.0400 \n",
      "1302 41% (1m 43s) 0.0405 \n",
      "1333 42% (1m 45s) 0.0398 \n",
      "1364 43% (1m 48s) 0.0402 \n",
      "1395 44% (1m 50s) 0.0372 \n",
      "1426 45% (1m 53s) 0.0397 \n",
      "1457 46% (1m 55s) 0.0386 \n",
      "1488 47% (1m 58s) 0.0371 \n",
      "1519 48% (2m 1s) 0.0361 \n",
      "1550 49% (2m 4s) 0.0363 \n",
      "1581 50% (2m 6s) 0.0383 \n",
      "1612 51% (2m 9s) 0.0377 \n",
      "1643 52% (2m 11s) 0.0385 \n",
      "1674 53% (2m 14s) 0.0371 \n",
      "1705 54% (2m 17s) 0.0373 \n",
      "1736 55% (2m 20s) 0.0375 \n",
      "1767 56% (2m 23s) 0.0379 \n",
      "1798 57% (2m 26s) 0.0341 \n",
      "1829 58% (2m 27s) 0.0358 \n",
      "1860 59% (2m 30s) 0.0369 \n",
      "1891 60% (2m 32s) 0.0343 \n",
      "1922 61% (2m 35s) 0.0348 \n",
      "1953 62% (2m 37s) 0.0346 \n",
      "1984 63% (2m 39s) 0.0336 \n",
      "2015 64% (2m 41s) 0.0353 \n",
      "2046 65% (2m 44s) 0.0367 \n",
      "2077 66% (2m 46s) 0.0370 \n",
      "2108 67% (2m 49s) 0.0369 \n",
      "2139 68% (2m 51s) 0.0348 \n",
      "2170 69% (2m 53s) 0.0345 \n",
      "2201 70% (2m 56s) 0.0326 \n",
      "2232 71% (2m 58s) 0.0336 \n",
      "2263 72% (3m 0s) 0.0346 \n",
      "2294 73% (3m 1s) 0.0352 \n",
      "2325 74% (3m 4s) 0.0325 \n",
      "2356 75% (3m 7s) 0.0321 \n",
      "2387 76% (3m 9s) 0.0334 \n",
      "2418 77% (3m 12s) 0.0356 \n",
      "2449 78% (3m 14s) 0.0342 \n",
      "2480 79% (3m 15s) 0.0315 \n",
      "2511 80% (3m 18s) 0.0351 \n",
      "2542 81% (3m 21s) 0.0342 \n",
      "2573 82% (3m 24s) 0.0329 \n",
      "2604 83% (3m 26s) 0.0346 \n",
      "2635 84% (3m 30s) 0.0326 \n",
      "2666 85% (3m 32s) 0.0339 \n",
      "2697 86% (3m 34s) 0.0318 \n",
      "2728 87% (3m 37s) 0.0332 \n",
      "2759 88% (3m 39s) 0.0334 \n",
      "2790 89% (3m 42s) 0.0341 \n",
      "2821 90% (3m 44s) 0.0333 \n",
      "2852 91% (3m 47s) 0.0332 \n",
      "2883 92% (3m 49s) 0.0329 \n",
      "2914 93% (3m 52s) 0.0337 \n",
      "2945 94% (3m 54s) 0.0321 \n",
      "2976 95% (3m 56s) 0.0306 \n",
      "3007 96% (4m 0s) 0.0316 \n",
      "3038 97% (4m 2s) 0.0323 \n",
      "3069 98% (4m 5s) 0.0317 \n",
      "3100 99% (4m 7s) 0.0328 \n"
     ]
    }
   ],
   "source": [
    "from lib.model import RNN_SLSTM\n",
    "n_hidden = 300\n",
    "n_categories = 10\n",
    "net = RNN_SLSTM(784, n_hidden, n_categories)\n",
    "net.set_shared_groups([[0, 1], [2]])\n",
    "\n",
    "optimizer = torch.optim.Adam(net.parameters())\n",
    "criterion = nn.NLLLoss()\n",
    "train_data = MNIST_add_data(train_set)\n",
    "\n",
    "trainer = TrainRNN(net, optimizer, criterion, train_data)\n",
    "trainer.train()"
   ]
  },
  {
   "cell_type": "code",
   "execution_count": 64,
   "metadata": {},
   "outputs": [
    {
     "data": {
      "image/png": "[encoded data removed]",
      "text/plain": [
       "<matplotlib.figure.Figure at 0x7fe8612282b0>"
      ]
     },
     "metadata": {},
     "output_type": "display_data"
    }
   ],
   "source": [
    "plt.plot(trainer.all_losses)\n",
    "plt.show()"
   ]
  },
  {
   "cell_type": "code",
   "execution_count": 67,
   "metadata": {},
   "outputs": [
    {
     "name": "stdout",
     "output_type": "stream",
     "text": [
      "accuracy is 23.80%\n"
     ]
    },
    {
     "data": {
      "image/png": "[encoded data removed]",
      "text/plain": [
       "<matplotlib.figure.Figure at 0x7fe85300a390>"
      ]
     },
     "metadata": {},
     "output_type": "display_data"
    }
   ],
   "source": [
    "n_categories = 10\n",
    "evaluation = Evaluation(net, MNIST_add_data(test_set, min_length=3, max_length=3))\n",
    "confusion = evaluation.confusion(n_categories, n_confusion=1000)\n",
    "plot_confusion(confusion)"
   ]
  },
  {
   "cell_type": "markdown",
   "metadata": {},
   "source": [
    "### LSTM"
   ]
  },
  {
   "cell_type": "code",
   "execution_count": 7,
   "metadata": {
    "scrolled": true
   },
   "outputs": [
    {
     "name": "stdout",
     "output_type": "stream",
     "text": [
      "31 0% (0m 1s) 0.0716 \n",
      "62 1% (0m 2s) 0.0696 \n",
      "93 2% (0m 4s) 0.0669 \n",
      "124 3% (0m 6s) 0.0621 \n",
      "155 4% (0m 8s) 0.0581 \n",
      "186 5% (0m 11s) 0.0555 \n",
      "217 6% (0m 15s) 0.0527 \n",
      "248 7% (0m 19s) 0.0519 \n",
      "279 8% (0m 21s) 0.0503 \n",
      "310 9% (0m 24s) 0.0500 \n",
      "341 10% (0m 27s) 0.0508 \n",
      "372 11% (0m 31s) 0.0490 \n",
      "403 12% (0m 34s) 0.0482 \n",
      "434 13% (0m 39s) 0.0459 \n",
      "465 14% (0m 43s) 0.0474 \n",
      "496 15% (0m 47s) 0.0468 \n",
      "527 16% (0m 50s) 0.0454 \n",
      "558 17% (0m 53s) 0.0464 \n",
      "589 18% (0m 58s) 0.0445 \n",
      "620 19% (1m 2s) 0.0446 \n",
      "651 20% (1m 6s) 0.0431 \n",
      "682 21% (1m 10s) 0.0433 \n",
      "713 22% (1m 14s) 0.0443 \n",
      "744 23% (1m 18s) 0.0430 \n",
      "775 24% (1m 20s) 0.0431 \n",
      "806 25% (1m 25s) 0.0417 \n",
      "837 26% (1m 29s) 0.0394 \n",
      "868 27% (1m 33s) 0.0410 \n",
      "899 28% (1m 36s) 0.0410 \n",
      "930 29% (1m 38s) 0.0407 \n",
      "961 30% (1m 42s) 0.0381 \n",
      "992 31% (1m 47s) 0.0399 \n",
      "1023 32% (1m 50s) 0.0384 \n",
      "1054 33% (1m 53s) 0.0384 \n",
      "1085 34% (1m 57s) 0.0392 \n",
      "1116 35% (1m 58s) 0.0356 \n",
      "1147 36% (2m 2s) 0.0346 \n",
      "1178 37% (2m 5s) 0.0397 \n",
      "1209 38% (2m 11s) 0.0344 \n",
      "1240 39% (2m 17s) 0.0342 \n",
      "1271 40% (2m 21s) 0.0358 \n",
      "1302 41% (2m 25s) 0.0369 \n",
      "1333 42% (2m 28s) 0.0340 \n",
      "1364 43% (2m 30s) 0.0337 \n",
      "1395 44% (2m 34s) 0.0329 \n",
      "1426 45% (2m 39s) 0.0351 \n",
      "1457 46% (2m 43s) 0.0343 \n",
      "1488 47% (2m 48s) 0.0316 \n",
      "1519 48% (2m 50s) 0.0320 \n",
      "1550 49% (2m 55s) 0.0323 \n",
      "1581 50% (2m 59s) 0.0327 \n",
      "1612 51% (3m 3s) 0.0305 \n",
      "1643 52% (3m 7s) 0.0335 \n",
      "1674 53% (3m 11s) 0.0304 \n",
      "1705 54% (3m 14s) 0.0301 \n",
      "1736 55% (3m 17s) 0.0316 \n",
      "1767 56% (3m 22s) 0.0316 \n",
      "1798 57% (3m 26s) 0.0304 \n",
      "1829 58% (3m 31s) 0.0304 \n",
      "1860 59% (3m 36s) 0.0291 \n",
      "1891 60% (3m 42s) 0.0296 \n",
      "1922 61% (3m 47s) 0.0304 \n",
      "1953 62% (3m 50s) 0.0292 \n",
      "1984 63% (3m 52s) 0.0288 \n",
      "2015 64% (3m 54s) 0.0270 \n",
      "2046 65% (3m 57s) 0.0271 \n",
      "2077 66% (4m 2s) 0.0281 \n",
      "2108 67% (4m 8s) 0.0293 \n",
      "2139 68% (4m 13s) 0.0294 \n",
      "2170 69% (4m 17s) 0.0260 \n",
      "2201 70% (4m 23s) 0.0265 \n",
      "2232 71% (4m 28s) 0.0271 \n",
      "2263 72% (4m 32s) 0.0266 \n",
      "2294 73% (4m 38s) 0.0279 \n",
      "2325 74% (4m 44s) 0.0254 \n",
      "2356 75% (4m 49s) 0.0273 \n",
      "2387 76% (4m 52s) 0.0260 \n",
      "2418 77% (4m 53s) 0.0254 \n",
      "2449 78% (4m 55s) 0.0255 \n",
      "2480 79% (4m 58s) 0.0248 \n",
      "2511 80% (5m 0s) 0.0250 \n",
      "2542 81% (5m 2s) 0.0256 \n",
      "2573 82% (5m 6s) 0.0261 \n",
      "2604 83% (5m 10s) 0.0272 \n",
      "2635 84% (5m 12s) 0.0247 \n",
      "2666 85% (5m 13s) 0.0231 \n",
      "2697 86% (5m 16s) 0.0256 \n",
      "2728 87% (5m 19s) 0.0254 \n",
      "2759 88% (5m 21s) 0.0239 \n",
      "2790 89% (5m 24s) 0.0234 \n",
      "2821 90% (5m 25s) 0.0243 \n",
      "2852 91% (5m 27s) 0.0254 \n",
      "2883 92% (5m 29s) 0.0256 \n",
      "2914 93% (5m 31s) 0.0252 \n",
      "2945 94% (5m 33s) 0.0241 \n",
      "2976 95% (5m 34s) 0.0255 \n",
      "3007 96% (5m 36s) 0.0230 \n",
      "3038 97% (5m 39s) 0.0234 \n",
      "3069 98% (5m 41s) 0.0229 \n",
      "3100 99% (5m 43s) 0.0229 \n"
     ]
    }
   ],
   "source": [
    "n_hidden = 300\n",
    "n_categories = 10\n",
    "net = RNN_LSTM(784, n_hidden, n_categories)\n",
    "\n",
    "optimizer = torch.optim.Adam(net.parameters())\n",
    "criterion = nn.NLLLoss()\n",
    "train_data = MNIST_add_data(train_set)\n",
    "\n",
    "trainer = TrainRNN(net, optimizer, criterion, train_data)\n",
    "trainer.train()"
   ]
  },
  {
   "cell_type": "code",
   "execution_count": 8,
   "metadata": {},
   "outputs": [
    {
     "data": {
      "image/png": "[encoded data removed]",
      "text/plain": [
       "<matplotlib.figure.Figure at 0x7fe77c0a4390>"
      ]
     },
     "metadata": {},
     "output_type": "display_data"
    }
   ],
   "source": [
    "plt.plot(trainer.all_losses)\n",
    "plt.show()"
   ]
  },
  {
   "cell_type": "code",
   "execution_count": 14,
   "metadata": {},
   "outputs": [
    {
     "name": "stdout",
     "output_type": "stream",
     "text": [
      "accuracy is 93.70%\n"
     ]
    },
    {
     "data": {
      "image/png": "[encoded data removed]",
      "text/plain": [
       "<matplotlib.figure.Figure at 0x7fe78dadc7b8>"
      ]
     },
     "metadata": {},
     "output_type": "display_data"
    }
   ],
   "source": [
    "n_categories = 10\n",
    "evaluation = Evaluation(net, MNIST_add_data(test_set, min_length=1, max_length=1))\n",
    "confusion = evaluation.confusion(n_categories, n_confusion=1000)\n",
    "plot_confusion(confusion)"
   ]
  },
  {
   "cell_type": "code",
   "execution_count": 27,
   "metadata": {
    "scrolled": true
   },
   "outputs": [
    {
     "name": "stdout",
     "output_type": "stream",
     "text": [
      "label: 9, predict: 9, prob: 0.70\n"
     ]
    },
    {
     "data": {
      "image/png": "[encoded data removed]",
      "text/plain": [
       "<matplotlib.figure.Figure at 0x7fe78db7a2e8>"
      ]
     },
     "metadata": {},
     "output_type": "display_data"
    },
    {
     "name": "stdout",
     "output_type": "stream",
     "text": [
      "label: 6, predict: 6, prob: 0.44\n"
     ]
    },
    {
     "data": {
      "image/png": "[encoded data removed]",
      "text/plain": [
       "<matplotlib.figure.Figure at 0x7fe78d667710>"
      ]
     },
     "metadata": {},
     "output_type": "display_data"
    },
    {
     "name": "stdout",
     "output_type": "stream",
     "text": [
      "label: 8, predict: 8, prob: 0.23\n"
     ]
    },
    {
     "data": {
      "image/png": "[encoded data removed]",
      "text/plain": [
       "<matplotlib.figure.Figure at 0x7fe78dae5ba8>"
      ]
     },
     "metadata": {},
     "output_type": "display_data"
    }
   ],
   "source": [
    "xs, ys = getCorrect(net, MNIST_add_data(test_set, min_length=2, max_length=3))    \n",
    "show_examples(net, xs, ys)"
   ]
  },
  {
   "cell_type": "markdown",
   "metadata": {},
   "source": []
  },
  {
   "cell_type": "markdown",
   "metadata": {},
   "source": [
    "# Q3 MTL matrix factorization method with learnable gates (deprecated; as reference to how to implement hypernetwork)"
   ]
  },
  {
   "cell_type": "code",
   "execution_count": 827,
   "metadata": {},
   "outputs": [
    {
     "name": "stdout",
     "output_type": "stream",
     "text": [
      "Parameter containing:\n",
      "tensor([0.1168, 0.7817], requires_grad=True)\n"
     ]
    }
   ],
   "source": [
    "# overload '+' sign to have two tasks and still train for the rnn class\n",
    "net_res = RNN_LSTM(784, n_hidden, n_categories)\n",
    "n_basis = 2\n",
    "params = []\n",
    "\n",
    "coef = torch.nn.Parameter(torch.zeros(n_basis))\n",
    "nn.init.uniform_(coef)\n",
    "net_res.coef = coef\n",
    "\n",
    "for n, p in net_res.named_parameters():\n",
    "    if 'bias' not in n and 'coef' not in n:\n",
    "        for _ in range(n_basis):\n",
    "            theta = torch.nn.Parameter(p.data / n_basis)\n",
    "            params.append(theta)\n",
    "    else:\n",
    "        params.append(p)\n",
    "\n",
    "net_res.forward_ready = False\n",
    "net_res.params = params\n",
    "net_res.n_basis = n_basis\n",
    "\n",
    "def forward_function(x_list, coef):\n",
    "    res = 0\n",
    "    for i in range(len(x_list)):\n",
    "        res += x_list[i] * coef[i]\n",
    "    return res\n",
    "    \n",
    "def prepare_forward(self, x_not_used):\n",
    "    \n",
    "    if hasattr(self, 'forward_ready') and self.forward_ready:\n",
    "        return \n",
    "    \n",
    "    i = 0\n",
    "    for n, p in self.named_parameters():\n",
    "        if 'bias' not in n and 'coef' not in n:\n",
    "            p.data = forward_function(self.params[i:i+self.n_basis], self.coef)\n",
    "            i += self.n_basis\n",
    "        else:\n",
    "            i += 1\n",
    "    self.forward_ready = True\n",
    "\n",
    "def after_backward(self):\n",
    "    # bug report: in register_backward_hook, backward failed!!! need to explicitly do it as shown in train_rnn_reg2 below\n",
    "    i = 0\n",
    "    for n, p in self.named_parameters():\n",
    "        if 'bias' not in n and 'coef' not in n:\n",
    "            c = forward_function(self.params[i:i+n_basis], self.coef)\n",
    "            if p.grad is not None:\n",
    "                c.backward(p.grad)\n",
    "                p.grad.zero_() # zero out parameter grad\n",
    "            i += self.n_basis\n",
    "        else:\n",
    "            i += 1\n",
    "    self.forward_ready = False\n",
    "\n",
    "def train_rnn_reg2(net, optimizer, criterion, x, y, x_lengths):\n",
    "    optimizer.zero_grad()\n",
    "\n",
    "    loss = criterion(net, x, y, x_lengths)\n",
    "    loss.backward()\n",
    "    after_backward(net)\n",
    "\n",
    "    optimizer.step()\n",
    "\n",
    "    return output, loss.item()\n",
    "\n",
    "def l0(loss, alpha):\n",
    "    \n",
    "    def reg(x):\n",
    "        return 0.5 * x.dot(x)\n",
    "    \n",
    "    def ret(net, x, y, x_lengths):\n",
    "        x.requires_grad = True\n",
    "        yhat = evaluateBatch(net, x, x_lengths)\n",
    "        l = loss(yhat, y)\n",
    "        return l\n",
    "    \n",
    "    return ret\n",
    "\n",
    "#print([x.shape for x in params])\n",
    "print(net_res.coef)"
   ]
  },
  {
   "cell_type": "code",
   "execution_count": null,
   "metadata": {},
   "outputs": [],
   "source": []
  }
 ],
 "metadata": {
  "kernelspec": {
   "display_name": "Python 3",
   "language": "python",
   "name": "python3"
  },
  "language_info": {
   "codemirror_mode": {
    "name": "ipython",
    "version": 3
   },
   "file_extension": ".py",
   "mimetype": "text/x-python",
   "name": "python",
   "nbconvert_exporter": "python",
   "pygments_lexer": "ipython3",
   "version": "3.5.2"
  }
 },
 "nbformat": 4,
 "nbformat_minor": 2
}
