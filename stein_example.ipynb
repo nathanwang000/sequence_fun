{
 "cells": [
  {
   "cell_type": "markdown",
   "metadata": {},
   "source": [
    "# Stein's example\n",
    "\n",
    "https://en.wikipedia.org/wiki/Proof_of_Stein%27s_example \n",
    "The ordinary decision rule (MLE) for estimating the mean of a multivariate Gaussian distribution is inadmissible (can be dominated) under mean squared error risk in dimension at least 3."
   ]
  },
  {
   "cell_type": "code",
   "execution_count": 1,
   "metadata": {},
   "outputs": [],
   "source": [
    "import numpy as np\n",
    "import matplotlib.pyplot as plt"
   ]
  },
  {
   "cell_type": "code",
   "execution_count": 30,
   "metadata": {},
   "outputs": [
    {
     "name": "stdout",
     "output_type": "stream",
     "text": [
      "MLE 3.00385025364 JS 1.96671988544\n"
     ]
    }
   ],
   "source": [
    "sigma = 1\n",
    "n = 3\n",
    "theta = np.random.randn(n) * 0.01 # smaller theta gives larger difference\n",
    "\n",
    "######## estimators ######\n",
    "\n",
    "def MLE(x, n=n):\n",
    "    return x\n",
    "\n",
    "def JS(x, n=n):\n",
    "    return (1 -  (n-2) * sigma**2 / np.sum(x**2)) * x\n",
    "\n",
    "####### evaluation function #####\n",
    "\n",
    "def risk(estimator, n=n, theta=theta): \n",
    "    _sum = 0\n",
    "    _total = 0\n",
    "    for i in range(10000):\n",
    "        x = np.random.randn(n) + theta\n",
    "        theta_hat = estimator(x, n)\n",
    "        r = np.sum((theta_hat - theta)**2)\n",
    "        _sum += r\n",
    "        _total += 1\n",
    "    return _sum / _total\n",
    "\n",
    "print('MLE', risk(MLE, n), 'JS', risk(JS, n))"
   ]
  },
  {
   "cell_type": "code",
   "execution_count": null,
   "metadata": {},
   "outputs": [],
   "source": []
  }
 ],
 "metadata": {
  "kernelspec": {
   "display_name": "Python 3",
   "language": "python",
   "name": "python3"
  },
  "language_info": {
   "codemirror_mode": {
    "name": "ipython",
    "version": 3
   },
   "file_extension": ".py",
   "mimetype": "text/x-python",
   "name": "python",
   "nbconvert_exporter": "python",
   "pygments_lexer": "ipython3",
   "version": "3.5.2"
  }
 },
 "nbformat": 4,
 "nbformat_minor": 2
}
